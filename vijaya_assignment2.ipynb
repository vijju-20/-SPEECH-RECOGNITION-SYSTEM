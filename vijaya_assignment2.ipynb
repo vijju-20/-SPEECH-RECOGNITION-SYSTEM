{
 "cells": [
  {
   "cell_type": "code",
   "execution_count": 1,
   "id": "efaf3a1c-c10a-4dde-b702-a841ee6a0154",
   "metadata": {},
   "outputs": [],
   "source": [
    "#Internship-Task 2\n",
    "#BUILD A BASIC SPEECH-TO-TEXT SYSTEM USING PRE-TRAINED MODELS AND LIBRARIES LIKE SPEECHRECOGNITION OR WAV2VEC.\n",
    "#DELIVERABLE: A FUNCTIONAL SYSTEM CAPABLE OF TRANSCRIBING SHORT AUDIO CLIP\n",
    "#The speech_recognition library in Python is a tool that simplifies integrating speech recognition into our applications\n",
    "#It acts as a wrapper for various speech-to-text APIs and engines, allowing us to convert spoken language into text\n",
    "#import the library speech_recognition for use in our program\n",
    "import speech_recognition as sr"
   ]
  },
  {
   "cell_type": "code",
   "execution_count": 2,
   "id": "a04a5f96-c9f6-4a64-8465-2a02e3bf7937",
   "metadata": {},
   "outputs": [],
   "source": [
    "#The Recognizer class is a fundamental component of the SpeechRecognition library in Python\n",
    "#It processes audio input and performs speech recognition tasks \n",
    "#Initializes the recognizer class\n",
    "recognizer = sr.Recognizer()"
   ]
  },
  {
   "cell_type": "code",
   "execution_count": 3,
   "id": "45b82ac0-d1af-47de-8983-16adcb61f32c",
   "metadata": {},
   "outputs": [],
   "source": [
    "#For testing this recognizer class, i have recorded an audio and saved it as a .WAV file\n",
    "# Provide the complete file path of the audio file\n",
    "audio_file = r'C:\\Users\\DELL\\Documents\\Sound Recordings\\Recording.WAV'"
   ]
  },
  {
   "cell_type": "code",
   "execution_count": 4,
   "id": "ec0bb46c-2624-41e4-80a9-6789196e650d",
   "metadata": {},
   "outputs": [
    {
     "name": "stdout",
     "output_type": "stream",
     "text": [
      "Recognized speech:  show a paragraph is a distinct section of writing the typically focuses on a single Idea topic consisting of several sentences and is usually indicated by an indent and the beginning of the sentence\n"
     ]
    }
   ],
   "source": [
    "#The recognizer.record() function is used to record audio from a microphone\n",
    "#or audio source and store it as an AudioData object, which can then be used for speech recognition\n",
    "#Read from the audio file and store the data in audio_data object\n",
    "with sr.AudioFile(audio_file) as source:\n",
    "    audio_data = recognizer.record(source)\n",
    "    try:\n",
    "#The recognize_google() method on it to access the Google web speech API and turn spoken language into text. \n",
    "#The recognize_google() requires an argument audio_data otherwise it will return an error.\n",
    "        # Recognize the speech\n",
    "        text = recognizer.recognize_google(audio_data)\n",
    "        print(\"Recognized speech: \", text)\n",
    "#Capture the error and print the error message\n",
    "    except Exception as e:\n",
    "        print(f\"Unexpected {e=}, {type(e)=}\")"
   ]
  },
  {
   "cell_type": "code",
   "execution_count": null,
   "id": "b26d7d08-fcf2-4b99-a2db-1270b621e725",
   "metadata": {},
   "outputs": [],
   "source": []
  }
 ],
 "metadata": {
  "kernelspec": {
   "display_name": "Python [conda env:base] *",
   "language": "python",
   "name": "conda-base-py"
  },
  "language_info": {
   "codemirror_mode": {
    "name": "ipython",
    "version": 3
   },
   "file_extension": ".py",
   "mimetype": "text/x-python",
   "name": "python",
   "nbconvert_exporter": "python",
   "pygments_lexer": "ipython3",
   "version": "3.12.7"
  }
 },
 "nbformat": 4,
 "nbformat_minor": 5
}
